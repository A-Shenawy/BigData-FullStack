{
 "cells": [
  {
   "cell_type": "code",
   "execution_count": 1,
   "id": "06139491-a1ae-4c11-b40a-7e1e2ceccd3b",
   "metadata": {},
   "outputs": [
    {
     "name": "stderr",
     "output_type": "stream",
     "text": [
      "Setting default log level to \"WARN\".\n",
      "To adjust logging level use sc.setLogLevel(newLevel). For SparkR, use setLogLevel(newLevel).\n",
      "25/01/27 19:31:25 WARN NativeCodeLoader: Unable to load native-hadoop library for your platform... using builtin-java classes where applicable\n"
     ]
    }
   ],
   "source": [
    "from pyspark.sql import SparkSession\n",
    "from pyspark.sql.functions import col, datediff, to_date, regexp_replace, when\n",
    "from pyspark.sql.types import IntegerType\n",
    "\n",
    "spark = SparkSession.builder \\\n",
    "    .appName(\"mimic-iii\") \\\n",
    "    .getOrCreate()"
   ]
  },
  {
   "cell_type": "code",
   "execution_count": 2,
   "id": "0ab3692d-bcd5-4b5c-a7f7-a15f38a7f98e",
   "metadata": {},
   "outputs": [
    {
     "name": "stderr",
     "output_type": "stream",
     "text": [
      "                                                                                \r"
     ]
    }
   ],
   "source": [
    "hdfs_patients_path = \"hdfs://namenode:9000/mimic/PATIENTS.csv\"\n",
    "hdfs_admissions_path = \"hdfs://namenode:9000/mimic/ADMISSIONS.csv\"\n",
    "hdfs_diagnoses_path = \"hdfs://namenode:9000/mimic/DIAGNOSES_ICD.csv\"\n",
    "\n",
    "df_patients = spark.read.csv(hdfs_patients_path, header=True, inferSchema=True,multiLine=True)\n",
    "df_admissions = spark.read.csv(hdfs_admissions_path, header=True, inferSchema=True,multiLine=True)\n",
    "df_diagnoses_icd = spark.read.csv(hdfs_diagnoses_path, header=True, inferSchema=True,multiLine=True)\n",
    "\n",
    "\n",
    "df_admissions =  df_admissions.select(\"ROW_ID\",\n",
    "                                      \"SUBJECT_ID\",\n",
    "                                      \"HADM_ID\",\n",
    "                                      \"ADMITTIME\",\n",
    "                                      \"DISCHTIME\",\n",
    "                                      \"DEATHTIME\",\n",
    "                                      \"ADMISSION_TYPE\",\n",
    "                                      \"ADMISSION_LOCATION\")\n",
    "# df_pa"
   ]
  },
  {
   "cell_type": "code",
   "execution_count": 3,
   "id": "f1e990a0-7ba5-4abd-9622-d6ddd42aa7b5",
   "metadata": {},
   "outputs": [
    {
     "name": "stdout",
     "output_type": "stream",
     "text": [
      "+------+----------+------+---------------+---------------+---------------+--------------+-----------+\n",
      "|ROW_ID|SUBJECT_ID|GENDER|            DOB|            DOD|       DOD_HOSP|       DOD_SSN|EXPIRE_FLAG|\n",
      "+------+----------+------+---------------+---------------+---------------+--------------+-----------+\n",
      "|   234|       249|     F| 3/13/2075 0:00|           null|           null|          null|          0|\n",
      "|   235|       250|     F|12/27/2164 0:00|11/22/2188 0:00|11/22/2188 0:00|          null|          1|\n",
      "|   236|       251|     M| 3/15/2090 0:00|           null|           null|          null|          0|\n",
      "|   237|       252|     M|  3/6/2078 0:00|           null|           null|          null|          0|\n",
      "|   238|       253|     F|11/26/2089 0:00|           null|           null|          null|          0|\n",
      "|   239|       255|     M|  8/5/2109 0:00|           null|           null|          null|          0|\n",
      "|   240|       256|     M| 7/31/2086 0:00|           null|           null|          null|          0|\n",
      "|   241|       257|     F|  4/3/2031 0:00|  7/8/2121 0:00|  7/8/2121 0:00| 7/8/2121 0:00|          1|\n",
      "|   242|       258|     F| 9/19/2124 0:00|           null|           null|          null|          0|\n",
      "|   243|       260|     F| 3/23/2105 0:00|           null|           null|          null|          0|\n",
      "|   244|       261|     M|  8/4/2025 0:00| 6/29/2102 0:00| 6/29/2102 0:00|6/29/2102 0:00|          1|\n",
      "|   245|       262|     M|  1/5/2090 0:00|           null|           null|          null|          0|\n",
      "|   246|       263|     M| 6/18/2104 0:00| 6/13/2168 0:00| 6/13/2168 0:00|          null|          1|\n",
      "|   247|       264|     F|11/30/2162 0:00|           null|           null|          null|          0|\n",
      "|   248|       265|     M|  8/1/2093 0:00|           null|           null|          null|          0|\n",
      "|   249|       266|     F|12/17/2090 0:00|           null|           null|          null|          0|\n",
      "|   250|       267|     F|  9/5/2131 0:00|           null|           null|          null|          0|\n",
      "|   251|       268|     F| 2/21/2132 0:00| 2/18/2198 0:00| 2/18/2198 0:00|          null|          1|\n",
      "|   252|       269|     M| 9/30/2130 0:00|           null|           null|          null|          0|\n",
      "|   253|       270|     M| 5/26/2048 0:00|           null|           null|          null|          0|\n",
      "+------+----------+------+---------------+---------------+---------------+--------------+-----------+\n",
      "only showing top 20 rows\n",
      "\n"
     ]
    }
   ],
   "source": [
    "df_patients.show()"
   ]
  },
  {
   "cell_type": "code",
   "execution_count": 4,
   "id": "73097fb8-62af-4272-a4f0-8fab0bb3618c",
   "metadata": {},
   "outputs": [
    {
     "name": "stdout",
     "output_type": "stream",
     "text": [
      "+------+----------+-------+----------------+----------------+---------------+--------------+--------------------+\n",
      "|ROW_ID|SUBJECT_ID|HADM_ID|       ADMITTIME|       DISCHTIME|      DEATHTIME|ADMISSION_TYPE|  ADMISSION_LOCATION|\n",
      "+------+----------+-------+----------------+----------------+---------------+--------------+--------------------+\n",
      "|    21|        22| 165315|  4/9/2196 12:26| 4/10/2196 15:54|           null|     EMERGENCY|EMERGENCY ROOM ADMIT|\n",
      "|    22|        23| 152223|   9/3/2153 7:15|  9/8/2153 19:10|           null|      ELECTIVE|PHYS REFERRAL/NOR...|\n",
      "|    23|        23| 124321|10/18/2157 19:34|10/25/2157 14:00|           null|     EMERGENCY|TRANSFER FROM HOS...|\n",
      "|    24|        24| 161859|  6/6/2139 16:14|  6/9/2139 12:48|           null|     EMERGENCY|TRANSFER FROM HOS...|\n",
      "|    25|        25| 129635|  11/2/2160 2:06| 11/5/2160 14:55|           null|     EMERGENCY|EMERGENCY ROOM ADMIT|\n",
      "|    26|        26| 197661|  5/6/2126 15:16| 5/13/2126 15:00|           null|     EMERGENCY|TRANSFER FROM HOS...|\n",
      "|    27|        27| 134931|11/30/2191 22:16| 12/3/2191 14:45|           null|       NEWBORN|PHYS REFERRAL/NOR...|\n",
      "|    28|        28| 162569|   9/1/2177 7:15|  9/6/2177 16:00|           null|      ELECTIVE|PHYS REFERRAL/NOR...|\n",
      "|    29|        30| 104557|10/14/2172 14:17|10/19/2172 14:37|           null|        URGENT|TRANSFER FROM HOS...|\n",
      "|    30|        31| 128652| 8/22/2108 23:27| 8/30/2108 15:00|8/30/2108 15:00|     EMERGENCY|TRANSFER FROM HOS...|\n",
      "|    31|        32| 175413|   4/4/2170 8:00| 4/23/2170 12:45|           null|      ELECTIVE|PHYS REFERRAL/NOR...|\n",
      "|    32|        33| 176176|12/23/2116 22:30|12/27/2116 12:05|           null|     EMERGENCY|EMERGENCY ROOM ADMIT|\n",
      "|    33|        34| 115799| 7/18/2186 16:46| 7/20/2186 16:00|           null|     EMERGENCY|TRANSFER FROM HOS...|\n",
      "|    34|        34| 144319|  2/23/2191 5:23| 2/25/2191 20:20|           null|     EMERGENCY|CLINIC REFERRAL/P...|\n",
      "|    35|        35| 166707| 2/10/2122 11:15| 2/20/2122 15:30|           null|      ELECTIVE|PHYS REFERRAL/NOR...|\n",
      "|    36|        36| 182104|  4/30/2131 7:15|  5/8/2131 14:00|           null|     EMERGENCY|CLINIC REFERRAL/P...|\n",
      "|    37|        36| 122659| 5/12/2131 19:49| 5/25/2131 13:30|           null|     EMERGENCY|EMERGENCY ROOM ADMIT|\n",
      "|    38|        36| 165660| 5/10/2134 11:30| 5/20/2134 13:16|           null|      ELECTIVE|PHYS REFERRAL/NOR...|\n",
      "|    39|        37| 188670| 8/21/2183 16:48| 8/26/2183 18:54|           null|     EMERGENCY|EMERGENCY ROOM ADMIT|\n",
      "|    40|        38| 185910|  8/10/2166 0:28|  9/4/2166 11:30|           null|     EMERGENCY|TRANSFER FROM HOS...|\n",
      "+------+----------+-------+----------------+----------------+---------------+--------------+--------------------+\n",
      "only showing top 20 rows\n",
      "\n"
     ]
    }
   ],
   "source": [
    "df_admissions.show()"
   ]
  },
  {
   "cell_type": "code",
   "execution_count": 5,
   "id": "01e8409d-0a9b-4a01-bfb5-68862b877a22",
   "metadata": {},
   "outputs": [
    {
     "name": "stdout",
     "output_type": "stream",
     "text": [
      "+------+----------+-------+-------+---------+\n",
      "|ROW_ID|SUBJECT_ID|HADM_ID|SEQ_NUM|ICD9_CODE|\n",
      "+------+----------+-------+-------+---------+\n",
      "|  1297|       109| 172335|      1|    40301|\n",
      "|  1298|       109| 172335|      2|      486|\n",
      "|  1299|       109| 172335|      3|    58281|\n",
      "|  1300|       109| 172335|      4|     5855|\n",
      "|  1301|       109| 172335|      5|     4254|\n",
      "|  1302|       109| 172335|      6|     2762|\n",
      "|  1303|       109| 172335|      7|     7100|\n",
      "|  1304|       109| 172335|      8|     2767|\n",
      "|  1305|       109| 172335|      9|     7243|\n",
      "|  1306|       109| 172335|     10|    45829|\n",
      "|  1307|       109| 172335|     11|     2875|\n",
      "|  1308|       109| 172335|     12|    28521|\n",
      "|  1309|       109| 172335|     13|    28529|\n",
      "|  1310|       109| 172335|     14|    27541|\n",
      "|  1311|       109| 173633|      1|    40301|\n",
      "|  1312|       109| 173633|      2|     5856|\n",
      "|  1313|       109| 173633|      3|    58381|\n",
      "|  1314|       109| 173633|      4|     7100|\n",
      "|  1315|       109| 173633|      5|     5589|\n",
      "|  1316|       109| 173633|      6|     2875|\n",
      "+------+----------+-------+-------+---------+\n",
      "only showing top 20 rows\n",
      "\n"
     ]
    }
   ],
   "source": [
    "df_diagnoses_icd.show()"
   ]
  },
  {
   "cell_type": "code",
   "execution_count": 6,
   "id": "0d2436f2-78ea-4a53-bf6a-845a444a98f5",
   "metadata": {},
   "outputs": [
    {
     "name": "stderr",
     "output_type": "stream",
     "text": [
      "[Stage 9:>                                                          (0 + 1) / 1]\r"
     ]
    },
    {
     "name": "stdout",
     "output_type": "stream",
     "text": [
      "+--------------+\n",
      "|admission_type|\n",
      "+--------------+\n",
      "|       NEWBORN|\n",
      "|      ELECTIVE|\n",
      "|     EMERGENCY|\n",
      "|        URGENT|\n",
      "+--------------+\n",
      "\n"
     ]
    },
    {
     "name": "stderr",
     "output_type": "stream",
     "text": [
      "                                                                                \r"
     ]
    }
   ],
   "source": [
    "unique_admission_types = df_admissions.select(\"admission_type\").distinct()\n",
    "unique_admission_types.show()"
   ]
  },
  {
   "cell_type": "code",
   "execution_count": 7,
   "id": "a947a696-3803-47d0-9dc7-19ef0a3a6bef",
   "metadata": {},
   "outputs": [
    {
     "name": "stdout",
     "output_type": "stream",
     "text": [
      "+------+----------+-------+----------------+----------------+---------------+--------------+--------------------+\n",
      "|ROW_ID|SUBJECT_ID|HADM_ID|       ADMITTIME|       DISCHTIME|      DEATHTIME|ADMISSION_TYPE|  ADMISSION_LOCATION|\n",
      "+------+----------+-------+----------------+----------------+---------------+--------------+--------------------+\n",
      "|    21|        22| 165315|  4/9/2196 12:26| 4/10/2196 15:54|           null|     EMERGENCY|EMERGENCY ROOM ADMIT|\n",
      "|    23|        23| 124321|10/18/2157 19:34|10/25/2157 14:00|           null|     EMERGENCY|TRANSFER FROM HOS...|\n",
      "|    24|        24| 161859|  6/6/2139 16:14|  6/9/2139 12:48|           null|     EMERGENCY|TRANSFER FROM HOS...|\n",
      "|    25|        25| 129635|  11/2/2160 2:06| 11/5/2160 14:55|           null|     EMERGENCY|EMERGENCY ROOM ADMIT|\n",
      "|    26|        26| 197661|  5/6/2126 15:16| 5/13/2126 15:00|           null|     EMERGENCY|TRANSFER FROM HOS...|\n",
      "|    30|        31| 128652| 8/22/2108 23:27| 8/30/2108 15:00|8/30/2108 15:00|     EMERGENCY|TRANSFER FROM HOS...|\n",
      "|    32|        33| 176176|12/23/2116 22:30|12/27/2116 12:05|           null|     EMERGENCY|EMERGENCY ROOM ADMIT|\n",
      "|    33|        34| 115799| 7/18/2186 16:46| 7/20/2186 16:00|           null|     EMERGENCY|TRANSFER FROM HOS...|\n",
      "|    34|        34| 144319|  2/23/2191 5:23| 2/25/2191 20:20|           null|     EMERGENCY|CLINIC REFERRAL/P...|\n",
      "|    36|        36| 182104|  4/30/2131 7:15|  5/8/2131 14:00|           null|     EMERGENCY|CLINIC REFERRAL/P...|\n",
      "|    37|        36| 122659| 5/12/2131 19:49| 5/25/2131 13:30|           null|     EMERGENCY|EMERGENCY ROOM ADMIT|\n",
      "|    39|        37| 188670| 8/21/2183 16:48| 8/26/2183 18:54|           null|     EMERGENCY|EMERGENCY ROOM ADMIT|\n",
      "|    40|        38| 185910|  8/10/2166 0:28|  9/4/2166 11:30|           null|     EMERGENCY|TRANSFER FROM HOS...|\n",
      "|   456|       357| 174486|  12/6/2197 7:13|  1/3/2198 14:00|           null|     EMERGENCY|EMERGENCY ROOM ADMIT|\n",
      "|   457|       357| 145674|   8/2/2198 4:49|10/26/2198 14:55|           null|     EMERGENCY|EMERGENCY ROOM ADMIT|\n",
      "|   458|       357| 122609| 11/1/2198 22:36|11/14/2198 14:20|           null|     EMERGENCY|EMERGENCY ROOM ADMIT|\n",
      "|   459|       357| 101651|10/20/2199 12:05|10/23/2199 17:30|           null|     EMERGENCY|EMERGENCY ROOM ADMIT|\n",
      "|   460|       357| 117876|12/21/2199 22:37| 1/18/2200 11:45|           null|     EMERGENCY|EMERGENCY ROOM ADMIT|\n",
      "|   462|       359| 144265|  6/30/2176 3:00|  7/3/2176 15:12|           null|     EMERGENCY|TRANSFER FROM HOS...|\n",
      "|   463|       360| 154871| 6/25/2176 17:50|  7/2/2176 14:28|           null|     EMERGENCY|EMERGENCY ROOM ADMIT|\n",
      "+------+----------+-------+----------------+----------------+---------------+--------------+--------------------+\n",
      "only showing top 20 rows\n",
      "\n"
     ]
    }
   ],
   "source": [
    "df_emergency_admissions = df_admissions.filter(col(\"admission_type\") == \"EMERGENCY\")\n",
    "df_emergency_admissions.show()"
   ]
  },
  {
   "cell_type": "code",
   "execution_count": 8,
   "id": "b2b1edb7-969d-4be4-996a-50a88dd31473",
   "metadata": {},
   "outputs": [
    {
     "name": "stdout",
     "output_type": "stream",
     "text": [
      "+------+----------+-------+----------------+----------------+---------+--------------+--------------------+\n",
      "|ROW_ID|SUBJECT_ID|HADM_ID|       ADMITTIME|       DISCHTIME|DEATHTIME|ADMISSION_TYPE|  ADMISSION_LOCATION|\n",
      "+------+----------+-------+----------------+----------------+---------+--------------+--------------------+\n",
      "|    27|        27| 134931|11/30/2191 22:16| 12/3/2191 14:45|     null|       NEWBORN|PHYS REFERRAL/NOR...|\n",
      "|    41|        39| 106266|11/29/2114 21:04| 12/9/2114 15:10|     null|       NEWBORN|PHYS REFERRAL/NOR...|\n",
      "|   461|       358| 110872|10/24/2168 23:48| 10/29/2168 3:23|     null|       NEWBORN|PHYS REFERRAL/NOR...|\n",
      "|   468|       363| 196503|  3/1/2176 15:26|  3/3/2176 14:04|     null|       NEWBORN|CLINIC REFERRAL/P...|\n",
      "|    49|        50| 132761| 6/23/2112 19:40| 6/26/2112 10:15|     null|       NEWBORN|PHYS REFERRAL/NOR...|\n",
      "|    50|        51| 196010|11/30/2128 10:28| 12/2/2128 12:35|     null|       NEWBORN|PHYS REFERRAL/NOR...|\n",
      "|    53|        54| 138795| 8/10/2191 15:53| 8/14/2191 14:29|     null|       NEWBORN|PHYS REFERRAL/NOR...|\n",
      "|    56|        57| 162774|  8/26/2141 0:07| 8/30/2141 12:14|     null|       NEWBORN|PHYS REFERRAL/NOR...|\n",
      "|    57|        58| 177285| 9/21/2184 10:03| 9/23/2184 14:11|     null|       NEWBORN|PHYS REFERRAL/NOR...|\n",
      "|    59|        60| 198892|11/12/2146 14:58|11/14/2146 14:30|     null|       NEWBORN|CLINIC REFERRAL/P...|\n",
      "|    66|        66| 104518|  8/25/2188 0:14|  9/4/2188 10:30|     null|       NEWBORN|PHYS REFERRAL/NOR...|\n",
      "|    71|        69| 190201| 3/21/2129 15:33|  4/9/2129 13:30|     null|       NEWBORN|PHYS REFERRAL/NOR...|\n",
      "|    72|        70| 178596|  9/1/2185 10:42|  9/5/2185 12:30|     null|       NEWBORN|PHYS REFERRAL/NOR...|\n",
      "|    74|        72| 156857| 9/22/2163 23:52| 9/29/2163 11:40|     null|       NEWBORN|PHYS REFERRAL/NOR...|\n",
      "|    76|        74| 182637|  6/7/2180 19:39| 6/10/2180 11:44|     null|       NEWBORN|PHYS REFERRAL/NOR...|\n",
      "|    83|        82| 110641| 6/24/2150 23:31| 6/29/2150 15:00|     null|       NEWBORN|PHYS REFERRAL/NOR...|\n",
      "|    90|        87| 190659| 2/25/2191 20:30| 4/25/2191 15:18|     null|       NEWBORN|PHYS REFERRAL/NOR...|\n",
      "|    92|        89| 188646|  6/17/2185 5:22| 6/21/2185 11:15|     null|       NEWBORN|PHYS REFERRAL/NOR...|\n",
      "|    94|        92| 142807|12/13/2122 19:30|  3/4/2123 13:47|     null|       NEWBORN|PHYS REFERRAL/NOR...|\n",
      "|    95|        93| 160481| 3/17/2128 17:11| 6/17/2128 15:00|     null|       NEWBORN|CLINIC REFERRAL/P...|\n",
      "+------+----------+-------+----------------+----------------+---------+--------------+--------------------+\n",
      "only showing top 20 rows\n",
      "\n"
     ]
    }
   ],
   "source": [
    "df_emergency_admissions = df_admissions.filter(col(\"admission_type\") == \"NEWBORN\")\n",
    "df_emergency_admissions.show()"
   ]
  },
  {
   "cell_type": "code",
   "execution_count": 9,
   "id": "5ae28590-4af3-4b18-b028-478e9679bef2",
   "metadata": {},
   "outputs": [
    {
     "name": "stdout",
     "output_type": "stream",
     "text": [
      "+------+----------+-------+----------------+----------------+---------------+--------------+--------------------+\n",
      "|ROW_ID|SUBJECT_ID|HADM_ID|       ADMITTIME|       DISCHTIME|      DEATHTIME|ADMISSION_TYPE|  ADMISSION_LOCATION|\n",
      "+------+----------+-------+----------------+----------------+---------------+--------------+--------------------+\n",
      "|    29|        30| 104557|10/14/2172 14:17|10/19/2172 14:37|           null|        URGENT|TRANSFER FROM HOS...|\n",
      "|    67|        67| 186474| 2/25/2155 12:45|  3/6/2155 15:00|           null|        URGENT|PHYS REFERRAL/NOR...|\n",
      "|    84|        83| 158569|  4/1/2142 12:34|  4/8/2142 14:46|           null|        URGENT|TRANSFER FROM HOS...|\n",
      "|   196|       146| 190707|12/19/2119 12:15| 1/10/2120 13:08|           null|        URGENT|TRANSFER FROM HOS...|\n",
      "|   205|       154| 162891|  4/5/2118 18:11| 4/11/2118 14:21|           null|        URGENT|PHYS REFERRAL/NOR...|\n",
      "|   447|       353| 159730| 6/15/2148 11:04|  7/4/2148 17:48|           null|        URGENT|PHYS REFERRAL/NOR...|\n",
      "|   581|       456| 113035|11/16/2197 12:22|11/22/2197 14:22|           null|        URGENT|TRANSFER FROM HOS...|\n",
      "|   582|       457| 166305| 1/30/2146 17:54|  3/1/2146 16:30|           null|        URGENT|TRANSFER FROM HOS...|\n",
      "|   607|       481| 117834|11/29/2167 18:37| 12/2/2167 19:51|           null|        URGENT|TRANSFER FROM HOS...|\n",
      "|   608|       482| 145066| 12/31/2184 2:29| 1/10/2185 11:53|           null|        URGENT|TRANSFER FROM HOS...|\n",
      "|   624|       499| 138066| 1/18/2147 19:09|  2/13/2147 5:12| 2/13/2147 5:12|        URGENT|TRANSFER FROM HOS...|\n",
      "|   497|       391| 100095| 9/26/2108 15:00|  10/5/2108 6:50| 10/5/2108 6:50|        URGENT|TRANSFER FROM HOS...|\n",
      "|   534|       417| 102633| 3/23/2177 16:17|  3/23/2177 7:20| 3/23/2177 7:20|        URGENT|PHYS REFERRAL/NOR...|\n",
      "|   263|       199| 185360| 7/14/2167 19:25|  7/22/2167 7:37|           null|        URGENT|PHYS REFERRAL/NOR...|\n",
      "|   271|       205| 135671| 11/6/2191 17:03|11/16/2191 16:33|           null|        URGENT|TRANSFER FROM HOS...|\n",
      "|   314|       242| 192980| 1/15/2122 22:29| 1/20/2122 16:02|           null|        URGENT|TRANSFER FROM HOS...|\n",
      "|   371|       292| 179726| 9/27/2103 18:28| 9/28/2103 15:44|9/28/2103 15:44|        URGENT|TRANSFER FROM HOS...|\n",
      "|  1116|       899| 188576|11/16/2148 19:40|  1/3/2149 14:00|           null|        URGENT|TRANSFER FROM HOS...|\n",
      "|   657|       521| 114051| 8/26/2130 22:43|  9/1/2130 15:21|           null|        URGENT|PHYS REFERRAL/NOR...|\n",
      "|   729|       586| 186075| 11/22/2142 4:38|11/28/2142 11:17|           null|        URGENT|TRANSFER FROM HOS...|\n",
      "+------+----------+-------+----------------+----------------+---------------+--------------+--------------------+\n",
      "only showing top 20 rows\n",
      "\n"
     ]
    }
   ],
   "source": [
    "df_emergency_admissions = df_admissions.filter(col(\"admission_type\") == \"URGENT\")\n",
    "df_emergency_admissions.show()"
   ]
  },
  {
   "cell_type": "code",
   "execution_count": 10,
   "id": "4e613373-1548-4104-be4c-8f7deb17635d",
   "metadata": {},
   "outputs": [
    {
     "name": "stdout",
     "output_type": "stream",
     "text": [
      "+------+----------+-------+----------------+----------------+---------+--------------+--------------------+\n",
      "|ROW_ID|SUBJECT_ID|HADM_ID|       ADMITTIME|       DISCHTIME|DEATHTIME|ADMISSION_TYPE|  ADMISSION_LOCATION|\n",
      "+------+----------+-------+----------------+----------------+---------+--------------+--------------------+\n",
      "|    22|        23| 152223|   9/3/2153 7:15|  9/8/2153 19:10|     null|      ELECTIVE|PHYS REFERRAL/NOR...|\n",
      "|    28|        28| 162569|   9/1/2177 7:15|  9/6/2177 16:00|     null|      ELECTIVE|PHYS REFERRAL/NOR...|\n",
      "|    31|        32| 175413|   4/4/2170 8:00| 4/23/2170 12:45|     null|      ELECTIVE|PHYS REFERRAL/NOR...|\n",
      "|    35|        35| 166707| 2/10/2122 11:15| 2/20/2122 15:30|     null|      ELECTIVE|PHYS REFERRAL/NOR...|\n",
      "|    38|        36| 165660| 5/10/2134 11:30| 5/20/2134 13:16|     null|      ELECTIVE|PHYS REFERRAL/NOR...|\n",
      "|    42|        41| 101757|12/31/2132 10:30| 1/27/2133 15:45|     null|      ELECTIVE|PHYS REFERRAL/NOR...|\n",
      "|   475|       369| 145787|  10/9/2142 7:15|10/16/2142 14:20|     null|      ELECTIVE|PHYS REFERRAL/NOR...|\n",
      "|    48|        49| 190539| 11/21/2186 7:15|11/28/2186 14:05|     null|      ELECTIVE|PHYS REFERRAL/NOR...|\n",
      "|    60|        61| 176332| 6/17/2118 14:40| 7/20/2118 12:30|     null|      ELECTIVE|PHYS REFERRAL/NOR...|\n",
      "|    77|        75| 112086|   4/5/2147 8:00| 4/11/2147 14:45|     null|      ELECTIVE|PHYS REFERRAL/NOR...|\n",
      "|    85|        84| 120969|   2/2/2196 7:15|  2/4/2196 17:48|     null|      ELECTIVE|PHYS REFERRAL/NOR...|\n",
      "|    89|        86| 190243|   4/6/2146 8:00| 4/10/2146 14:28|     null|      ELECTIVE|PHYS REFERRAL/NOR...|\n",
      "|   101|        98| 188606|   4/2/2137 8:00|  4/9/2137 10:38|     null|      ELECTIVE|PHYS REFERRAL/NOR...|\n",
      "|   103|       100| 153952|  8/10/2157 7:15| 8/18/2157 19:54|     null|      ELECTIVE|PHYS REFERRAL/NOR...|\n",
      "|   168|       124| 134369| 5/21/2165 21:02|  6/6/2165 16:00|     null|      ELECTIVE|PHYS REFERRAL/NOR...|\n",
      "|   170|       125| 157348| 2/14/2179 21:23| 2/21/2179 18:03|     null|      ELECTIVE|PHYS REFERRAL/NOR...|\n",
      "|   180|       134| 167887|  1/14/2127 7:15| 1/24/2127 14:55|     null|      ELECTIVE|PHYS REFERRAL/NOR...|\n",
      "|   182|       135| 199634|  5/17/2174 9:00| 5/21/2174 14:00|     null|      ELECTIVE|PHYS REFERRAL/NOR...|\n",
      "|   183|       136| 184644|   5/9/2103 7:15| 5/14/2103 11:33|     null|      ELECTIVE|PHYS REFERRAL/NOR...|\n",
      "|   185|       138| 108120| 10/31/2131 8:00| 11/6/2131 12:54|     null|      ELECTIVE|PHYS REFERRAL/NOR...|\n",
      "+------+----------+-------+----------------+----------------+---------+--------------+--------------------+\n",
      "only showing top 20 rows\n",
      "\n"
     ]
    }
   ],
   "source": [
    "df_emergency_admissions = df_admissions.filter(col(\"admission_type\") == \"ELECTIVE\")\n",
    "df_emergency_admissions.show()"
   ]
  },
  {
   "cell_type": "code",
   "execution_count": 11,
   "id": "642c0b48-4e40-495a-9082-9904de47cf68",
   "metadata": {},
   "outputs": [
    {
     "name": "stdout",
     "output_type": "stream",
     "text": [
      "+------+----------+-------+----------------+----------------+---------------+--------------+--------------------+\n",
      "|ROW_ID|SUBJECT_ID|HADM_ID|       ADMITTIME|       DISCHTIME|      DEATHTIME|ADMISSION_TYPE|  ADMISSION_LOCATION|\n",
      "+------+----------+-------+----------------+----------------+---------------+--------------+--------------------+\n",
      "|    21|        22| 165315|  4/9/2196 12:26| 4/10/2196 15:54|           null|     EMERGENCY|EMERGENCY ROOM ADMIT|\n",
      "|    22|        23| 152223|   9/3/2153 7:15|  9/8/2153 19:10|           null|      ELECTIVE|PHYS REFERRAL/NOR...|\n",
      "|    23|        23| 124321|10/18/2157 19:34|10/25/2157 14:00|           null|     EMERGENCY|TRANSFER FROM HOS...|\n",
      "|    24|        24| 161859|  6/6/2139 16:14|  6/9/2139 12:48|           null|     EMERGENCY|TRANSFER FROM HOS...|\n",
      "|    25|        25| 129635|  11/2/2160 2:06| 11/5/2160 14:55|           null|     EMERGENCY|EMERGENCY ROOM ADMIT|\n",
      "|    26|        26| 197661|  5/6/2126 15:16| 5/13/2126 15:00|           null|     EMERGENCY|TRANSFER FROM HOS...|\n",
      "|    27|        27| 134931|11/30/2191 22:16| 12/3/2191 14:45|           null|       NEWBORN|PHYS REFERRAL/NOR...|\n",
      "|    28|        28| 162569|   9/1/2177 7:15|  9/6/2177 16:00|           null|      ELECTIVE|PHYS REFERRAL/NOR...|\n",
      "|    29|        30| 104557|10/14/2172 14:17|10/19/2172 14:37|           null|        URGENT|TRANSFER FROM HOS...|\n",
      "|    30|        31| 128652| 8/22/2108 23:27| 8/30/2108 15:00|8/30/2108 15:00|     EMERGENCY|TRANSFER FROM HOS...|\n",
      "|    31|        32| 175413|   4/4/2170 8:00| 4/23/2170 12:45|           null|      ELECTIVE|PHYS REFERRAL/NOR...|\n",
      "|    32|        33| 176176|12/23/2116 22:30|12/27/2116 12:05|           null|     EMERGENCY|EMERGENCY ROOM ADMIT|\n",
      "|    33|        34| 115799| 7/18/2186 16:46| 7/20/2186 16:00|           null|     EMERGENCY|TRANSFER FROM HOS...|\n",
      "|    34|        34| 144319|  2/23/2191 5:23| 2/25/2191 20:20|           null|     EMERGENCY|CLINIC REFERRAL/P...|\n",
      "|    35|        35| 166707| 2/10/2122 11:15| 2/20/2122 15:30|           null|      ELECTIVE|PHYS REFERRAL/NOR...|\n",
      "|    36|        36| 182104|  4/30/2131 7:15|  5/8/2131 14:00|           null|     EMERGENCY|CLINIC REFERRAL/P...|\n",
      "|    37|        36| 122659| 5/12/2131 19:49| 5/25/2131 13:30|           null|     EMERGENCY|EMERGENCY ROOM ADMIT|\n",
      "|    38|        36| 165660| 5/10/2134 11:30| 5/20/2134 13:16|           null|      ELECTIVE|PHYS REFERRAL/NOR...|\n",
      "|    39|        37| 188670| 8/21/2183 16:48| 8/26/2183 18:54|           null|     EMERGENCY|EMERGENCY ROOM ADMIT|\n",
      "|    40|        38| 185910|  8/10/2166 0:28|  9/4/2166 11:30|           null|     EMERGENCY|TRANSFER FROM HOS...|\n",
      "+------+----------+-------+----------------+----------------+---------------+--------------+--------------------+\n",
      "only showing top 20 rows\n",
      "\n"
     ]
    }
   ],
   "source": [
    "df_admissions.show()"
   ]
  },
  {
   "cell_type": "code",
   "execution_count": 12,
   "id": "685cc12a-6d71-473b-8af0-b6686baf94a7",
   "metadata": {},
   "outputs": [
    {
     "name": "stderr",
     "output_type": "stream",
     "text": [
      "                                                                                \r"
     ]
    },
    {
     "name": "stdout",
     "output_type": "stream",
     "text": [
      "+-------+------+--------------------+-------------------+-------------------+---------+--------------+--------------------+------+----------+-------+---------+--------------+\n",
      "|HADM_ID|ROW_ID|admission_SUBJECT_ID|admission_ADMITTIME|admission_DISCHTIME|DEATHTIME|ADMISSION_TYPE|  ADMISSION_LOCATION|ROW_ID|SUBJECT_ID|SEQ_NUM|ICD9_CODE|length_of_stay|\n",
      "+-------+------+--------------------+-------------------+-------------------+---------+--------------+--------------------+------+----------+-------+---------+--------------+\n",
      "| 172335|   128|                 109|2141-09-18 10:32:00|2141-09-24 13:53:00|     null|     EMERGENCY|EMERGENCY ROOM ADMIT|  1297|       109|      1|    40301|             6|\n",
      "| 172335|   128|                 109|2141-09-18 10:32:00|2141-09-24 13:53:00|     null|     EMERGENCY|EMERGENCY ROOM ADMIT|  1298|       109|      2|      486|             6|\n",
      "| 172335|   128|                 109|2141-09-18 10:32:00|2141-09-24 13:53:00|     null|     EMERGENCY|EMERGENCY ROOM ADMIT|  1299|       109|      3|    58281|             6|\n",
      "| 172335|   128|                 109|2141-09-18 10:32:00|2141-09-24 13:53:00|     null|     EMERGENCY|EMERGENCY ROOM ADMIT|  1300|       109|      4|     5855|             6|\n",
      "| 172335|   128|                 109|2141-09-18 10:32:00|2141-09-24 13:53:00|     null|     EMERGENCY|EMERGENCY ROOM ADMIT|  1301|       109|      5|     4254|             6|\n",
      "| 172335|   128|                 109|2141-09-18 10:32:00|2141-09-24 13:53:00|     null|     EMERGENCY|EMERGENCY ROOM ADMIT|  1302|       109|      6|     2762|             6|\n",
      "| 172335|   128|                 109|2141-09-18 10:32:00|2141-09-24 13:53:00|     null|     EMERGENCY|EMERGENCY ROOM ADMIT|  1303|       109|      7|     7100|             6|\n",
      "| 172335|   128|                 109|2141-09-18 10:32:00|2141-09-24 13:53:00|     null|     EMERGENCY|EMERGENCY ROOM ADMIT|  1304|       109|      8|     2767|             6|\n",
      "| 172335|   128|                 109|2141-09-18 10:32:00|2141-09-24 13:53:00|     null|     EMERGENCY|EMERGENCY ROOM ADMIT|  1305|       109|      9|     7243|             6|\n",
      "| 172335|   128|                 109|2141-09-18 10:32:00|2141-09-24 13:53:00|     null|     EMERGENCY|EMERGENCY ROOM ADMIT|  1306|       109|     10|    45829|             6|\n",
      "| 172335|   128|                 109|2141-09-18 10:32:00|2141-09-24 13:53:00|     null|     EMERGENCY|EMERGENCY ROOM ADMIT|  1307|       109|     11|     2875|             6|\n",
      "| 172335|   128|                 109|2141-09-18 10:32:00|2141-09-24 13:53:00|     null|     EMERGENCY|EMERGENCY ROOM ADMIT|  1308|       109|     12|    28521|             6|\n",
      "| 172335|   128|                 109|2141-09-18 10:32:00|2141-09-24 13:53:00|     null|     EMERGENCY|EMERGENCY ROOM ADMIT|  1309|       109|     13|    28529|             6|\n",
      "| 172335|   128|                 109|2141-09-18 10:32:00|2141-09-24 13:53:00|     null|     EMERGENCY|EMERGENCY ROOM ADMIT|  1310|       109|     14|    27541|             6|\n",
      "| 173633|   132|                 109|2141-12-08 01:40:00|2141-12-14 17:16:00|     null|     EMERGENCY|EMERGENCY ROOM ADMIT|  1311|       109|      1|    40301|             6|\n",
      "| 173633|   132|                 109|2141-12-08 01:40:00|2141-12-14 17:16:00|     null|     EMERGENCY|EMERGENCY ROOM ADMIT|  1312|       109|      2|     5856|             6|\n",
      "| 173633|   132|                 109|2141-12-08 01:40:00|2141-12-14 17:16:00|     null|     EMERGENCY|EMERGENCY ROOM ADMIT|  1313|       109|      3|    58381|             6|\n",
      "| 173633|   132|                 109|2141-12-08 01:40:00|2141-12-14 17:16:00|     null|     EMERGENCY|EMERGENCY ROOM ADMIT|  1314|       109|      4|     7100|             6|\n",
      "| 173633|   132|                 109|2141-12-08 01:40:00|2141-12-14 17:16:00|     null|     EMERGENCY|EMERGENCY ROOM ADMIT|  1315|       109|      5|     5589|             6|\n",
      "| 173633|   132|                 109|2141-12-08 01:40:00|2141-12-14 17:16:00|     null|     EMERGENCY|EMERGENCY ROOM ADMIT|  1316|       109|      6|     2875|             6|\n",
      "+-------+------+--------------------+-------------------+-------------------+---------+--------------+--------------------+------+----------+-------+---------+--------------+\n",
      "only showing top 20 rows\n",
      "\n"
     ]
    }
   ],
   "source": [
    "from pyspark.sql.functions import to_timestamp, datediff, col, expr\n",
    "\n",
    "df_admissions_new = (\n",
    "    df_admissions\n",
    "    .withColumnRenamed(\"DISCHTIME\", \"admission_DISCHTIME\")\n",
    "    .withColumnRenamed(\"ADMITTIME\", \"admission_ADMITTIME\")\n",
    "    .withColumnRenamed(\"SUBJECT_ID\", \"admission_SUBJECT_ID\")\n",
    "    .withColumn(\n",
    "        \"admission_DISCHTIME\",\n",
    "        to_timestamp(col(\"admission_DISCHTIME\"), \"M/d/yyyy H:mm\")\n",
    "    )\n",
    "    .withColumn(\n",
    "        \"admission_ADMITTIME\",\n",
    "        to_timestamp(col(\"admission_ADMITTIME\"), \"M/d/yyyy H:mm\")\n",
    "    )\n",
    ")\n",
    "\n",
    "df_joined_for_los = df_admissions_new.join(df_diagnoses_icd, on=\"HADM_ID\", how=\"inner\")\n",
    "\n",
    "df_joined_for_los = (\n",
    "    df_joined_for_los\n",
    "    .withColumn(\n",
    "        \"length_of_stay\",\n",
    "        datediff(col(\"admission_DISCHTIME\"), col(\"admission_ADMITTIME\"))\n",
    "    )\n",
    "    .filter(col(\"length_of_stay\").isNotNull() & (col(\"length_of_stay\") >= 0))\n",
    ")\n",
    "\n",
    "df_joined_for_los.show()\n"
   ]
  },
  {
   "cell_type": "code",
   "execution_count": 13,
   "id": "6bb69020-ce52-4bc0-aab3-ea44f9e6b9a6",
   "metadata": {},
   "outputs": [
    {
     "name": "stderr",
     "output_type": "stream",
     "text": [
      "[Stage 20:>                                                         (0 + 1) / 1]\r"
     ]
    },
    {
     "name": "stdout",
     "output_type": "stream",
     "text": [
      "+----------+\n",
      "|median_los|\n",
      "+----------+\n",
      "|         8|\n",
      "+----------+\n",
      "\n"
     ]
    },
    {
     "name": "stderr",
     "output_type": "stream",
     "text": [
      "                                                                                \r"
     ]
    }
   ],
   "source": [
    "from pyspark.sql.functions import expr\n",
    "\n",
    "df_length_of_stay = df_joined_for_los.select(expr(\"percentile_approx(length_of_stay, 0.5) AS median_los\"))\n",
    "df_length_of_stay.show()\n"
   ]
  },
  {
   "cell_type": "code",
   "execution_count": 14,
   "id": "6e6ea71b-9130-4a50-8d3e-8c9520a92c42",
   "metadata": {},
   "outputs": [
    {
     "name": "stdout",
     "output_type": "stream",
     "text": [
      "+----------+------+-------+-------------------+-------------------+---------------+--------------+--------------------+------+------+-------------------+--------------+--------------+--------------+-----------+\n",
      "|SUBJECT_ID|ROW_ID|HADM_ID|admission_ADMITTIME|admission_DISCHTIME|      DEATHTIME|ADMISSION_TYPE|  ADMISSION_LOCATION|ROW_ID|GENDER|                DOB|           DOD|      DOD_HOSP|       DOD_SSN|EXPIRE_FLAG|\n",
      "+----------+------+-------+-------------------+-------------------+---------------+--------------+--------------------+------+------+-------------------+--------------+--------------+--------------+-----------+\n",
      "|        22|    21| 165315|2196-04-09 12:26:00|2196-04-10 15:54:00|           null|     EMERGENCY|EMERGENCY ROOM ADMIT|    19|     F|      5/7/2131 0:00|          null|          null|          null|          0|\n",
      "|        23|    22| 152223|2153-09-03 07:15:00|2153-09-08 19:10:00|           null|      ELECTIVE|PHYS REFERRAL/NOR...|    20|     M|     7/17/2082 0:00|          null|          null|          null|          0|\n",
      "|        23|    23| 124321|2157-10-18 19:34:00|2157-10-25 14:00:00|           null|     EMERGENCY|TRANSFER FROM HOS...|    20|     M|     7/17/2082 0:00|          null|          null|          null|          0|\n",
      "|        24|    24| 161859|2139-06-06 16:14:00|2139-06-09 12:48:00|           null|     EMERGENCY|TRANSFER FROM HOS...|    21|     M|     5/31/2100 0:00|          null|          null|          null|          0|\n",
      "|        25|    25| 129635|2160-11-02 02:06:00|2160-11-05 14:55:00|           null|     EMERGENCY|EMERGENCY ROOM ADMIT|    22|     M|    11/21/2101 0:00|          null|          null|          null|          0|\n",
      "|        26|    26| 197661|2126-05-06 15:16:00|2126-05-13 15:00:00|           null|     EMERGENCY|TRANSFER FROM HOS...|    23|     M|      5/4/2054 0:00|2/25/2128 0:00|          null|2/25/2128 0:00|          1|\n",
      "|        27|    27| 134931|2191-11-30 22:16:00|2191-12-03 14:45:00|           null|       NEWBORN|PHYS REFERRAL/NOR...|    24|     F|    11/30/2191 0:00|          null|          null|          null|          0|\n",
      "|        28|    28| 162569|2177-09-01 07:15:00|2177-09-06 16:00:00|           null|      ELECTIVE|PHYS REFERRAL/NOR...|    25|     M|     4/15/2103 0:00|          null|          null|          null|          0|\n",
      "|        30|    29| 104557|2172-10-14 14:17:00|2172-10-19 14:37:00|           null|        URGENT|TRANSFER FROM HOS...|    26|     M|1872-10-14 00:00:00|          null|          null|          null|          0|\n",
      "|        31|    30| 128652|2108-08-22 23:27:00|2108-08-30 15:00:00|8/30/2108 15:00|     EMERGENCY|TRANSFER FROM HOS...|    27|     M|     5/17/2036 0:00|8/30/2108 0:00|8/30/2108 0:00|8/30/2108 0:00|          1|\n",
      "|        32|    31| 175413|2170-04-04 08:00:00|2170-04-23 12:45:00|           null|      ELECTIVE|PHYS REFERRAL/NOR...|    28|     M|     9/29/2124 0:00|          null|          null|          null|          0|\n",
      "|        33|    32| 176176|2116-12-23 22:30:00|2116-12-27 12:05:00|           null|     EMERGENCY|EMERGENCY ROOM ADMIT|    29|     M|      8/2/2034 0:00|          null|          null|          null|          0|\n",
      "|        34|    33| 115799|2186-07-18 16:46:00|2186-07-20 16:00:00|           null|     EMERGENCY|TRANSFER FROM HOS...|    30|     M|1886-07-18 00:00:00|1/30/2192 0:00|          null|1/30/2192 0:00|          1|\n",
      "|        34|    34| 144319|2191-02-23 05:23:00|2191-02-25 20:20:00|           null|     EMERGENCY|CLINIC REFERRAL/P...|    30|     M|1886-07-18 00:00:00|1/30/2192 0:00|          null|1/30/2192 0:00|          1|\n",
      "|        35|    35| 166707|2122-02-10 11:15:00|2122-02-20 15:30:00|           null|      ELECTIVE|PHYS REFERRAL/NOR...|    31|     F|      9/1/2052 0:00|          null|          null|          null|          0|\n",
      "|        36|    36| 182104|2131-04-30 07:15:00|2131-05-08 14:00:00|           null|     EMERGENCY|CLINIC REFERRAL/P...|    32|     M|     8/17/2061 0:00|          null|          null|          null|          0|\n",
      "|        36|    37| 122659|2131-05-12 19:49:00|2131-05-25 13:30:00|           null|     EMERGENCY|EMERGENCY ROOM ADMIT|    32|     M|     8/17/2061 0:00|          null|          null|          null|          0|\n",
      "|        36|    38| 165660|2134-05-10 11:30:00|2134-05-20 13:16:00|           null|      ELECTIVE|PHYS REFERRAL/NOR...|    32|     M|     8/17/2061 0:00|          null|          null|          null|          0|\n",
      "|        37|    39| 188670|2183-08-21 16:48:00|2183-08-26 18:54:00|           null|     EMERGENCY|EMERGENCY ROOM ADMIT|    33|     M|     9/17/2114 0:00| 1/6/2185 0:00| 1/6/2185 0:00| 1/6/2185 0:00|          1|\n",
      "|        38|    40| 185910|2166-08-10 00:28:00|2166-09-04 11:30:00|           null|     EMERGENCY|TRANSFER FROM HOS...|    34|     M|     8/31/2090 0:00|          null|          null|          null|          0|\n",
      "+----------+------+-------+-------------------+-------------------+---------------+--------------+--------------------+------+------+-------------------+--------------+--------------+--------------+-----------+\n",
      "only showing top 20 rows\n",
      "\n"
     ]
    }
   ],
   "source": [
    "df_admissions_new = (\n",
    "    df_admissions\n",
    "    .withColumnRenamed(\"DISCHTIME\", \"admission_DISCHTIME\")\n",
    "    .withColumnRenamed(\"ADMITTIME\", \"admission_ADMITTIME\")\n",
    "    .withColumn(\n",
    "        \"admission_DISCHTIME\",\n",
    "        to_timestamp(col(\"admission_DISCHTIME\"), \"M/d/yyyy H:mm\")\n",
    "    )\n",
    "    .withColumn(\n",
    "        \"admission_ADMITTIME\",\n",
    "        to_timestamp(col(\"admission_ADMITTIME\"), \"M/d/yyyy H:mm\")\n",
    "    )\n",
    ")\n",
    "\n",
    "df_joined_patients = (\n",
    "    df_admissions_new.alias(\"adm\")\n",
    "    .join(\n",
    "        df_patients.alias(\"pat\"),\n",
    "        on=\"SUBJECT_ID\",\n",
    "        how=\"inner\"\n",
    "    )\n",
    ")\n",
    "df_joined_patients.show()"
   ]
  },
  {
   "cell_type": "code",
   "execution_count": 15,
   "id": "c2f6e242-cbe2-4c60-b607-178a2f061e93",
   "metadata": {},
   "outputs": [
    {
     "name": "stdout",
     "output_type": "stream",
     "text": [
      "+-------------------+-------------------+--------------------+\n",
      "|admission_ADMITTIME|DOB                |approx_age          |\n",
      "+-------------------+-------------------+--------------------+\n",
      "|2196-04-09 12:26:00|5/7/2131 0:00      |64.92681192486121   |\n",
      "|2153-09-03 07:15:00|7/17/2082 0:00     |71.13019050878394   |\n",
      "|2157-10-18 19:34:00|7/17/2082 0:00     |75.25479884401855   |\n",
      "|2139-06-06 16:14:00|5/31/2100 0:00     |39.016225568484295  |\n",
      "|2160-11-02 02:06:00|11/21/2101 0:00    |58.94890485968515   |\n",
      "|2126-05-06 15:16:00|5/4/2054 0:00      |72.00447942809339   |\n",
      "|2191-11-30 22:16:00|11/30/2191 0:00    |0.002540117119172561|\n",
      "|2177-09-01 07:15:00|4/15/2103 0:00     |74.38275724389688   |\n",
      "|2172-10-14 14:17:00|1872-10-14 00:00:00|null                |\n",
      "|2108-08-22 23:27:00|5/17/2036 0:00     |72.26550878393795   |\n",
      "+-------------------+-------------------+--------------------+\n",
      "only showing top 10 rows\n",
      "\n",
      "['SUBJECT_ID', 'ROW_ID', 'HADM_ID', 'admission_ADMITTIME', 'admission_DISCHTIME', 'DEATHTIME', 'ADMISSION_TYPE', 'ADMISSION_LOCATION', 'ROW_ID', 'GENDER', 'DOB', 'DOD', 'DOD_HOSP', 'DOD_SSN', 'EXPIRE_FLAG', 'length_of_stay', 'DOB_ts', 'approx_age']\n"
     ]
    }
   ],
   "source": [
    "from pyspark.sql.functions import datediff, floor\n",
    "\n",
    "df_joined_patients_los = df_joined_patients.withColumn(\n",
    "    \"length_of_stay\",\n",
    "    datediff(col(\"admission_DISCHTIME\"), col(\"admission_ADMITTIME\"))\n",
    ")\n",
    "\n",
    "df_joined_patients_dob = (\n",
    "    df_joined_patients_los\n",
    "    .withColumn(\n",
    "        \"DOB_ts\",\n",
    "        to_timestamp(col(\"DOB\"), \"M/d/yyyy H:mm\")\n",
    "    )\n",
    ")\n",
    "# df_joined_patients_dob.select(\"DOB_ts\").show()\n",
    "df_joined_approx_age = df_joined_patients_dob.withColumn(\n",
    "    \"approx_age\",\n",
    "    (col(\"admission_ADMITTIME\").cast(\"long\") - col(\"DOB_ts\").cast(\"long\")) / (60*60*24*365.25)\n",
    ")\n",
    "\n",
    "df_joined_approx_age.select(\"admission_ADMITTIME\", \"pat.DOB\", \"approx_age\").show(10, False)\n",
    "print(df_joined_approx_age.columns)"
   ]
  },
  {
   "cell_type": "markdown",
   "id": "405e6c8c-e14a-4dc6-ac01-4e78247c9284",
   "metadata": {},
   "source": [
    "# Building ML Model for readmission prediction"
   ]
  },
  {
   "cell_type": "code",
   "execution_count": 16,
   "id": "3198380f-d9cc-4acf-a34d-6b6796778631",
   "metadata": {},
   "outputs": [],
   "source": [
    "from pyspark.sql.window import Window\n",
    "from pyspark.sql.functions import lead, unix_timestamp\n",
    "\n",
    "w = Window.partitionBy(\"SUBJECT_ID\").orderBy(\"admission_ADMITTIME\")\n",
    "\n",
    "df_joined = df_joined_approx_age.withColumn(\n",
    "    \"next_admission_time\",\n",
    "    lead(\"admission_ADMITTIME\").over(w)\n",
    ")\n",
    "\n",
    "df_joined = df_joined.withColumn(\"admission_DISCHTIME_unix\", unix_timestamp(\"admission_DISCHTIME\"))\n",
    "df_joined = df_joined.withColumn(\"next_admission_time_unix\", unix_timestamp(\"next_admission_time\"))\n",
    "\n",
    "# Time difference in days between discharge and next admission\n",
    "df_joined = df_joined.withColumn(\n",
    "    \"days_to_next_admit\",\n",
    "    (col(\"next_admission_time_unix\") - col(\"admission_DISCHTIME_unix\")) / (60*60*24)\n",
    ")\n",
    "\n",
    "df_joined = df_joined.withColumn(\n",
    "    \"readmission_label\",\n",
    "    when((col(\"days_to_next_admit\") <= 30) & (col(\"days_to_next_admit\") >= 0), 1).otherwise(0)\n",
    ")\n"
   ]
  },
  {
   "cell_type": "code",
   "execution_count": 17,
   "id": "34a20ac5-9ebb-4599-bfcf-be0225f23d59",
   "metadata": {},
   "outputs": [
    {
     "name": "stderr",
     "output_type": "stream",
     "text": [
      "[Stage 28:>                                                         (0 + 1) / 1]\r"
     ]
    },
    {
     "name": "stdout",
     "output_type": "stream",
     "text": [
      "+----------+------+-------+-------------------+-------------------+---------------+--------------+--------------------+------+------+-------------------+---------------+---------------+--------------+-----------+--------------+-------------------+--------------------+-------------------+------------------------+------------------------+------------------+-----------------+\n",
      "|SUBJECT_ID|ROW_ID|HADM_ID|admission_ADMITTIME|admission_DISCHTIME|      DEATHTIME|ADMISSION_TYPE|  ADMISSION_LOCATION|ROW_ID|GENDER|                DOB|            DOD|       DOD_HOSP|       DOD_SSN|EXPIRE_FLAG|length_of_stay|             DOB_ts|          approx_age|next_admission_time|admission_DISCHTIME_unix|next_admission_time_unix|days_to_next_admit|readmission_label|\n",
      "+----------+------+-------+-------------------+-------------------+---------------+--------------+--------------------+------+------+-------------------+---------------+---------------+--------------+-----------+--------------+-------------------+--------------------+-------------------+------------------------+------------------------+------------------+-----------------+\n",
      "|         6|     5| 107064|2175-05-30 07:15:00|2175-06-15 16:00:00|           null|      ELECTIVE|PHYS REFERRAL/NOR...|     5|     F|     6/21/2109 0:00|           null|           null|          null|          0|            16|2109-06-21 00:00:00|   65.93922541638148|               null|              6483513600|                    null|              null|                0|\n",
      "|        12|    11| 112213|2104-08-07 10:15:00|2104-08-20 02:57:00| 8/20/2104 2:57|      ELECTIVE|PHYS REFERRAL/NOR...|    11|     M|     3/24/2032 0:00| 8/20/2104 0:00| 8/20/2104 0:00|8/20/2104 0:00|          1|            13|2032-03-24 00:00:00|   72.37077914670317|               null|              4248644220|                    null|              null|                0|\n",
      "|        13|    12| 143045|2167-01-08 18:43:00|2167-01-15 15:15:00|           null|     EMERGENCY|TRANSFER FROM HOS...|    12|     F|     2/27/2127 0:00|           null|           null|          null|          0|             7|2127-02-27 00:00:00|    39.8652426040003|               null|              6218003700|                    null|              null|                0|\n",
      "|        16|    13| 103251|2178-02-03 06:35:00|2178-02-05 10:51:00|           null|       NEWBORN|PHYS REFERRAL/NOR...|    13|     M|      2/3/2178 0:00|           null|           null|          null|          0|             2|2178-02-03 00:00:00|7.510076811924861E-4|               null|              6566957460|                    null|              null|                0|\n",
      "|        22|    21| 165315|2196-04-09 12:26:00|2196-04-10 15:54:00|           null|     EMERGENCY|EMERGENCY ROOM ADMIT|    19|     F|      5/7/2131 0:00|           null|           null|          null|          0|             1|2131-05-07 00:00:00|   64.92681192486121|               null|              7140585240|                    null|              null|                0|\n",
      "|        26|    26| 197661|2126-05-06 15:16:00|2126-05-13 15:00:00|           null|     EMERGENCY|TRANSFER FROM HOS...|    23|     M|      5/4/2054 0:00| 2/25/2128 0:00|           null|2/25/2128 0:00|          1|             7|2054-05-04 00:00:00|   72.00447942809339|               null|              4934358000|                    null|              null|                0|\n",
      "|        27|    27| 134931|2191-11-30 22:16:00|2191-12-03 14:45:00|           null|       NEWBORN|PHYS REFERRAL/NOR...|    24|     F|    11/30/2191 0:00|           null|           null|          null|          0|             3|2191-11-30 00:00:00|0.002540117119172561|               null|              7003205100|                    null|              null|                0|\n",
      "|        28|    28| 162569|2177-09-01 07:15:00|2177-09-06 16:00:00|           null|      ELECTIVE|PHYS REFERRAL/NOR...|    25|     M|     4/15/2103 0:00|           null|           null|          null|          0|             5|2103-04-15 00:00:00|   74.38275724389688|               null|              6553843200|                    null|              null|                0|\n",
      "|        31|    30| 128652|2108-08-22 23:27:00|2108-08-30 15:00:00|8/30/2108 15:00|     EMERGENCY|TRANSFER FROM HOS...|    27|     M|     5/17/2036 0:00| 8/30/2108 0:00| 8/30/2108 0:00|8/30/2108 0:00|          1|             8|2036-05-17 00:00:00|   72.26550878393795|               null|              4375782000|                    null|              null|                0|\n",
      "|        34|    33| 115799|2186-07-18 16:46:00|2186-07-20 16:00:00|           null|     EMERGENCY|TRANSFER FROM HOS...|    30|     M|1886-07-18 00:00:00| 1/30/2192 0:00|           null|1/30/2192 0:00|          1|             2|               null|                null|2191-02-23 05:23:00|              6833692800|              6978720180| 1678.557638888889|                0|\n",
      "|        34|    34| 144319|2191-02-23 05:23:00|2191-02-25 20:20:00|           null|     EMERGENCY|CLINIC REFERRAL/P...|    30|     M|1886-07-18 00:00:00| 1/30/2192 0:00|           null|1/30/2192 0:00|          1|             2|               null|                null|               null|              6978946800|                    null|              null|                0|\n",
      "|        44|    45| 181750|2192-11-19 18:14:00|2192-11-27 14:35:00|           null|     EMERGENCY|CLINIC REFERRAL/P...|    39|     M|     9/14/2112 0:00|11/22/2199 0:00|11/22/2199 0:00|          null|          1|             8|2112-09-14 00:00:00|   80.18277815803484|               null|              7034308500|                    null|              null|                0|\n",
      "|        52|    51| 190797|2191-01-10 02:12:00|2191-01-19 16:10:00|           null|     EMERGENCY|TRANSFER FROM HOS...|    45|     M|    11/26/2152 0:00| 7/11/2192 0:00|           null|7/11/2192 0:00|          1|             9|2152-11-26 00:00:00|   38.12208532968287|               null|              6975735000|                    null|              null|                0|\n",
      "|        53|    52| 155385|2170-03-20 20:20:00|2170-03-23 18:00:00|           null|     EMERGENCY|TRANSFER FROM HOS...|    46|     M|     8/31/2124 0:00|           null|           null|          null|          0|             3|2124-08-31 00:00:00|   45.55194311354476|               null|              6318496800|                    null|              null|                0|\n",
      "|        65|    65| 143430|2132-08-10 07:13:00|2132-08-20 15:47:00|           null|     EMERGENCY|EMERGENCY ROOM ADMIT|    58|     M|     1/17/2106 0:00|           null|           null|          null|          0|            10|2106-01-17 00:00:00|  26.563451593277055|               null|              5132303220|                    null|              null|                0|\n",
      "|        78|    79| 100536|2177-02-14 00:16:00|2177-02-17 22:12:00|           null|     EMERGENCY|EMERGENCY ROOM ADMIT|    70|     M|      7/1/2128 0:00|  2/2/2180 0:00|           null| 2/2/2180 0:00|          1|             3|2128-07-01 00:00:00|   48.62426040003042|               null|              6536499120|                    null|              null|                0|\n",
      "|        81|    82| 175016|2192-01-09 18:50:00|2192-01-11 13:00:00|           null|     EMERGENCY|EMERGENCY ROOM ADMIT|    73|     M|    12/20/2106 0:00| 1/12/2192 0:00| 1/12/2192 0:00|1/12/2192 0:00|          1|             2|2106-12-20 00:00:00|   85.05622100539965|               null|              7006568400|                    null|              null|                0|\n",
      "|        85|    87| 116630|2162-03-02 14:04:00|2162-03-10 13:15:00|           null|     EMERGENCY|CLINIC REFERRAL/P...|    77|     M|     9/18/2090 0:00| 9/12/2167 0:00| 9/12/2167 0:00|9/12/2167 0:00|          1|             8|2090-09-18 00:00:00|   71.45129667655335|2167-07-25 18:49:00|              6064895700|              6234518940|1963.2319444444445|                0|\n",
      "|        85|    88| 112077|2167-07-25 18:49:00|2167-07-30 15:24:00|           null|     EMERGENCY|CLINIC REFERRAL/P...|    77|     M|     9/18/2090 0:00| 9/12/2167 0:00| 9/12/2167 0:00|9/12/2167 0:00|          1|             5|2090-09-18 00:00:00|   76.84814244429234|               null|              6234938640|                    null|              null|                0|\n",
      "|        86|    89| 190243|2146-04-06 08:00:00|2146-04-10 14:28:00|           null|      ELECTIVE|PHYS REFERRAL/NOR...|    78|     F|    12/31/2100 0:00|           null|           null|          null|          0|             4|2100-12-31 00:00:00|  45.263061829796946|               null|              5562656880|                    null|              null|                0|\n",
      "+----------+------+-------+-------------------+-------------------+---------------+--------------+--------------------+------+------+-------------------+---------------+---------------+--------------+-----------+--------------+-------------------+--------------------+-------------------+------------------------+------------------------+------------------+-----------------+\n",
      "only showing top 20 rows\n",
      "\n"
     ]
    },
    {
     "name": "stderr",
     "output_type": "stream",
     "text": [
      "                                                                                \r"
     ]
    }
   ],
   "source": [
    "df_joined.show()"
   ]
  },
  {
   "cell_type": "code",
   "execution_count": 18,
   "id": "d89aa9c2-3fde-4e37-9e6b-ab3c1cabd96e",
   "metadata": {},
   "outputs": [],
   "source": [
    "from pyspark.sql.functions import when\n",
    "from pyspark.ml.feature import StringIndexer, OneHotEncoder, VectorAssembler\n",
    "from pyspark.ml import Pipeline\n",
    "\n",
    "gender_indexer = StringIndexer(inputCol=\"GENDER\", outputCol=\"gender_index\")\n",
    "\n",
    "admission_type_indexer = StringIndexer(inputCol=\"ADMISSION_TYPE\", outputCol=\"admission_type_index\")\n",
    "\n",
    "assembler = VectorAssembler(\n",
    "    inputCols=[\"approx_age\", \"gender_index\", \"admission_type_index\"],\n",
    "    outputCol=\"features\"\n",
    ")\n"
   ]
  },
  {
   "cell_type": "code",
   "execution_count": 19,
   "id": "6f647265-d109-453e-885a-8fd7a7576712",
   "metadata": {},
   "outputs": [
    {
     "name": "stdout",
     "output_type": "stream",
     "text": [
      "['SUBJECT_ID', 'ROW_ID', 'HADM_ID', 'admission_ADMITTIME', 'admission_DISCHTIME', 'DEATHTIME', 'ADMISSION_TYPE', 'ADMISSION_LOCATION', 'ROW_ID', 'GENDER', 'DOB', 'DOD', 'DOD_HOSP', 'DOD_SSN', 'EXPIRE_FLAG', 'length_of_stay', 'DOB_ts', 'approx_age', 'next_admission_time', 'admission_DISCHTIME_unix', 'next_admission_time_unix', 'days_to_next_admit', 'readmission_label']\n"
     ]
    },
    {
     "name": "stderr",
     "output_type": "stream",
     "text": [
      "[Stage 34:>                                                         (0 + 1) / 1]\r"
     ]
    },
    {
     "name": "stdout",
     "output_type": "stream",
     "text": [
      "+-----------------+------+--------------+--------------------+\n",
      "|readmission_label|GENDER|ADMISSION_TYPE|          approx_age|\n",
      "+-----------------+------+--------------+--------------------+\n",
      "|                0|     F|      ELECTIVE|3.441326336603544E-4|\n",
      "|                0|     F|      ELECTIVE|5.456688721575785E-4|\n",
      "|                0|     F|      ELECTIVE|  17.421971252566735|\n",
      "|                0|     F|      ELECTIVE|   18.93583162217659|\n",
      "|                0|     F|      ELECTIVE|  19.302760666210357|\n",
      "|                0|     F|      ELECTIVE|  20.206536618754278|\n",
      "|                0|     F|      ELECTIVE|   20.70993041295916|\n",
      "|                0|     F|      ELECTIVE|   20.78857517681953|\n",
      "|                0|     F|      ELECTIVE|  21.151684538748192|\n",
      "|                0|     F|      ELECTIVE|   21.31234314396532|\n",
      "|                0|     F|      ELECTIVE|   21.88227241615332|\n",
      "|                0|     F|      ELECTIVE|   22.15280629705681|\n",
      "|                0|     F|      ELECTIVE|  23.015200775724388|\n",
      "|                0|     F|      ELECTIVE|  23.321868583162217|\n",
      "|                0|     F|      ELECTIVE|  23.428616244581338|\n",
      "|                0|     F|      ELECTIVE|   23.75989618982432|\n",
      "|                0|     F|      ELECTIVE|  23.779061145334246|\n",
      "|                0|     F|      ELECTIVE|  23.785299262301315|\n",
      "|                0|     F|      ELECTIVE|  24.020267700965853|\n",
      "|                0|     F|      ELECTIVE|   24.04189482089893|\n",
      "+-----------------+------+--------------+--------------------+\n",
      "only showing top 20 rows\n",
      "\n"
     ]
    },
    {
     "name": "stderr",
     "output_type": "stream",
     "text": [
      "                                                                                \r"
     ]
    }
   ],
   "source": [
    "from pyspark.ml.classification import LogisticRegression\n",
    "\n",
    "print(df_joined.columns)\n",
    "df_readmission = df_joined.filter(col(\"approx_age\").isNotNull())\n",
    "df_readmission = df_readmission.select(\"readmission_label\", \"GENDER\", \"ADMISSION_TYPE\", \"approx_age\")\n",
    "train_df, test_df = df_readmission.randomSplit([0.8, 0.2], seed=42)\n",
    "train_df.show()"
   ]
  },
  {
   "cell_type": "code",
   "execution_count": 20,
   "id": "5bac5c85-79db-4820-8900-8cb4349edced",
   "metadata": {},
   "outputs": [
    {
     "name": "stderr",
     "output_type": "stream",
     "text": [
      "25/01/27 19:33:37 WARN InstanceBuilder: Failed to load implementation from:dev.ludovic.netlib.blas.JNIBLAS\n",
      "[Stage 76:>                                                         (0 + 1) / 1]\r"
     ]
    },
    {
     "name": "stdout",
     "output_type": "stream",
     "text": [
      "+-----------------+----------+-----------------------------------------+\n",
      "|readmission_label|prediction|probability                              |\n",
      "+-----------------+----------+-----------------------------------------+\n",
      "|0                |0.0       |[0.972831467083865,0.02716853291613497]  |\n",
      "|0                |0.0       |[0.9695058173166078,0.030494182683392212]|\n",
      "|0                |0.0       |[0.9693011292222456,0.03069887077775435] |\n",
      "|0                |0.0       |[0.9691216713027423,0.030878328697257706]|\n",
      "|0                |0.0       |[0.968764757627207,0.03123524237279296]  |\n",
      "|0                |0.0       |[0.9686901526002006,0.03130984739979936] |\n",
      "|0                |0.0       |[0.9684883168853065,0.031511683114693545]|\n",
      "|0                |0.0       |[0.9682038211244751,0.03179617887552488] |\n",
      "|0                |0.0       |[0.9679662601467691,0.03203373985323088] |\n",
      "|0                |0.0       |[0.9679205159188007,0.032079484081199316]|\n",
      "+-----------------+----------+-----------------------------------------+\n",
      "only showing top 10 rows\n",
      "\n"
     ]
    },
    {
     "name": "stderr",
     "output_type": "stream",
     "text": [
      "                                                                                \r"
     ]
    }
   ],
   "source": [
    "lr = LogisticRegression(\n",
    "    featuresCol=\"features\",\n",
    "    labelCol=\"readmission_label\",\n",
    "    maxIter=10\n",
    ")\n",
    "\n",
    "pipeline_readmission = Pipeline(stages=[gender_indexer, admission_type_indexer, assembler, lr])\n",
    "\n",
    "readmission_model = pipeline_readmission.fit(train_df)\n",
    "\n",
    "predictions = readmission_model.transform(test_df)\n",
    "predictions.select(\"readmission_label\", \"prediction\", \"probability\").show(10, truncate=False)"
   ]
  },
  {
   "cell_type": "code",
   "execution_count": 21,
   "id": "6e6db29b-3c60-4fa7-bb14-4b87fc391794",
   "metadata": {},
   "outputs": [
    {
     "name": "stderr",
     "output_type": "stream",
     "text": [
      "                                                                                \r"
     ]
    },
    {
     "name": "stdout",
     "output_type": "stream",
     "text": [
      "Area under ROC: 0.5444723964090548\n"
     ]
    }
   ],
   "source": [
    "from pyspark.ml.evaluation import BinaryClassificationEvaluator\n",
    "\n",
    "evaluator = BinaryClassificationEvaluator(\n",
    "    labelCol=\"readmission_label\",\n",
    "    rawPredictionCol=\"rawPrediction\",\n",
    "    metricName=\"areaUnderROC\"\n",
    ")\n",
    "\n",
    "auc = evaluator.evaluate(predictions)\n",
    "print(\"Area under ROC:\", auc)"
   ]
  }
 ],
 "metadata": {
  "kernelspec": {
   "display_name": "Python 3 (ipykernel)",
   "language": "python",
   "name": "python3"
  },
  "language_info": {
   "codemirror_mode": {
    "name": "ipython",
    "version": 3
   },
   "file_extension": ".py",
   "mimetype": "text/x-python",
   "name": "python",
   "nbconvert_exporter": "python",
   "pygments_lexer": "ipython3",
   "version": "3.11.6"
  }
 },
 "nbformat": 4,
 "nbformat_minor": 5
}
